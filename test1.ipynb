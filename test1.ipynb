{
 "cells": [
  {
   "cell_type": "code",
   "execution_count": null,
   "metadata": {},
   "outputs": [],
   "source": [
    "# Import all dependencies\n",
    "\n",
    "from __future__ import print_function, absolute_import\n",
    "import time\n",
    "import numpy as np\n",
    "import matplotlib.pyplot as plt\n",
    "from scipy import signal\n",
    "from sklearn.svm import SVC\n",
    "from sklearn.model_selection import cross_val_score, StratifiedKFold, train_test_split\n",
    "from sklearn.metrics import matthews_corrcoef, balanced_accuracy_score\n",
    "import multiprocessing\n",
    "import scipy.stats\n",
    "import sys"
   ]
  },
  {
   "cell_type": "code",
   "execution_count": null,
   "metadata": {},
   "outputs": [],
   "source": [
    "# Load the dataset\n",
    "import src.data_loader as dl\n",
    "subIDs, data, labels = dl.load_processed_data_N_subjects_allchans('data/', Nsub=14)"
   ]
  },
  {
   "cell_type": "markdown",
   "metadata": {},
   "source": [
    "### Obtain a STFT for a given epoch"
   ]
  },
  {
   "cell_type": "code",
   "execution_count": 4,
   "metadata": {},
   "outputs": [],
   "source": [
    "def get_stft(data_array):\n",
    "    f, t, data_stft = np.abs(signal.stft(data_array, fs=100, nperseg=64, noverlap=48, axis=-1))\n",
    "    data_stft = np.moveaxis(data_stft, 1, -1)\n",
    "    return data_stft"
   ]
  },
  {
   "cell_type": "markdown",
   "metadata": {},
   "source": [
    "### Normalize the STFT to the subject's overall EEG spectrum (mean, std)"
   ]
  },
  {
   "cell_type": "code",
   "execution_count": 5,
   "metadata": {
    "scrolled": true
   },
   "outputs": [],
   "source": [
    "def get_stft_zscore(stft):\n",
    "    \n",
    "    # move trials to the last axis\n",
    "    data_stft_mean = np.mean(data_stft, axis=(2,3))\n",
    "    data_stft_mean = np.repeat(data_stft_mean[:,:,np.newaxis], data_stft.shape[2], axis=2)\n",
    "    data_stft_mean = np.repeat(data_stft_mean[:,:,:, np.newaxis], data_stft.shape[3], axis=3)\n",
    "\n",
    "    data_stft_std = np.std(data_stft, axis=(2,3))\n",
    "    data_stft_std = np.repeat(data_stft_std[:,:,np.newaxis], data_stft.shape[2], axis=2)\n",
    "    data_stft_std = np.repeat(data_stft_std[:,:,:, np.newaxis], data_stft.shape[3], axis=3)\n",
    "    \n",
    "    stft_norm = (data_stft - data_stft_mean) / data_stft_std\n",
    "    \n",
    "    return stft_norm"
   ]
  },
  {
   "cell_type": "markdown",
   "metadata": {},
   "source": [
    "### Split the data into train and test based on subjects"
   ]
  },
  {
   "cell_type": "code",
   "execution_count": 98,
   "metadata": {},
   "outputs": [],
   "source": [
    "xtrain, xtest, ytrain, ytest = train_test_split(data, labels, test_size=0.25, random_state=42)"
   ]
  },
  {
   "cell_type": "code",
   "execution_count": 100,
   "metadata": {},
   "outputs": [],
   "source": [
    "def generate_features(stft_z, labels_):\n",
    "      \n",
    "    # Then get the frames as feature vectors\n",
    "    data_array = label_array = np.array([])\n",
    "    for trial in np.arange(stft_z.shape[-1]):\n",
    "        \n",
    "        for timepoint in np.arange(stft_z.shape[-2]):\n",
    "            data_array = np.append(data_array, stft_z[:, :, timepoint, trial].ravel(), axis=0)\n",
    "            l_t = np.where(labels_[trial,:]==1)\n",
    "            label_array = np.append(label_array, l_t)\n",
    "    \n",
    "    X = np.reshape(data_array, (-1, stft_z.shape[0]*stft_z.shape[1]))\n",
    "    y = label_array.astype(int)\n",
    "    y[y==6] = 0\n",
    "    y[y>0] = 1\n",
    "\n",
    "    return X, y"
   ]
  },
  {
   "cell_type": "code",
   "execution_count": 101,
   "metadata": {},
   "outputs": [
    {
     "name": "stdout",
     "output_type": "stream",
     "text": [
      "Subject 1 out of 10\n",
      "Subject 2 out of 10\n",
      "Subject 3 out of 10\n",
      "Subject 4 out of 10\n",
      "Subject 5 out of 10\n",
      "Subject 6 out of 10\n",
      "Subject 7 out of 10\n",
      "Subject 8 out of 10\n",
      "Subject 9 out of 10\n",
      "Subject 10 out of 10\n"
     ]
    }
   ],
   "source": [
    "for sub in range(len(xtrain)):\n",
    "    print(\"Subject {} out of {}\".format(sub+1, len(xtrain)))\n",
    "    data_stft = get_stft(xtrain[sub])\n",
    "    data_stft_norm = get_stft_zscore(data_stft)\n",
    "\n",
    "    if sub==0:\n",
    "        X, y = generate_features(data_stft_norm, ytrain[sub])\n",
    "    else:\n",
    "        X_sub, y_sub = generate_features(data_stft_norm, ytrain[sub])\n",
    "        X = np.append(X, X_sub, axis=0)\n",
    "        y = np.append(y, y_sub, axis=0)"
   ]
  },
  {
   "cell_type": "code",
   "execution_count": 106,
   "metadata": {},
   "outputs": [],
   "source": [
    "# Randomize the training set\n",
    "\n",
    "ds = np.empty((X.shape[0], X.shape[1]+1))\n",
    "ds[:,:-1]=X\n",
    "ds[:,-1] = y\n",
    "np.random.seed=42\n",
    "np.random.shuffle(ds)"
   ]
  },
  {
   "cell_type": "code",
   "execution_count": 107,
   "metadata": {},
   "outputs": [
    {
     "data": {
      "text/plain": [
       "SVC(C=1.0, cache_size=200, class_weight='balanced', coef0=0.0,\n",
       "    decision_function_shape='ovr', degree=3, gamma='scale', kernel='rbf',\n",
       "    max_iter=-1, probability=True, random_state=42, shrinking=True, tol=0.001,\n",
       "    verbose=0)"
      ]
     },
     "execution_count": 107,
     "metadata": {},
     "output_type": "execute_result"
    }
   ],
   "source": [
    "clf = SVC(C=1.0, cache_size=200, class_weight='balanced', coef0=0.0,\n",
    "  decision_function_shape='ovr', degree=3, gamma='scale', kernel='rbf',\n",
    "  max_iter=-1, probability=True, random_state=42, shrinking=True, tol=0.001,\n",
    "  verbose=0)\n",
    "\n",
    "clf.fit(ds[:,:-1],ds[:,-1])"
   ]
  },
  {
   "cell_type": "code",
   "execution_count": 108,
   "metadata": {},
   "outputs": [],
   "source": [
    "def generate_test_features(stft_epoch):\n",
    "    data_array = label_array = np.array([])        \n",
    "    for timepoint in np.arange(stft_epoch.shape[-1]):\n",
    "        data_array = np.append(data_array, stft_epoch[:, :, timepoint].ravel(), axis=0)\n",
    "    X = np.reshape(data_array, (-1, stft_epoch.shape[0]*stft_epoch.shape[1]))\n",
    "    return X"
   ]
  },
  {
   "cell_type": "code",
   "execution_count": 109,
   "metadata": {
    "scrolled": false
   },
   "outputs": [
    {
     "name": "stdout",
     "output_type": "stream",
     "text": [
      "Subject 1 out of 4\n",
      "Epoch 1 out of 100\n",
      "Epoch 11 out of 100\n",
      "Epoch 21 out of 100\n",
      "Epoch 31 out of 100\n",
      "Epoch 41 out of 100\n",
      "Epoch 51 out of 100\n",
      "Epoch 61 out of 100\n",
      "Epoch 71 out of 100\n",
      "Epoch 81 out of 100\n",
      "Epoch 91 out of 100\n",
      "\n",
      "\n",
      "Score is 1.000 \n",
      "\n",
      "\n",
      "Subject 2 out of 4\n",
      "Epoch 1 out of 300\n",
      "Epoch 11 out of 300\n",
      "Epoch 21 out of 300\n",
      "Epoch 31 out of 300\n",
      "Epoch 41 out of 300\n",
      "Epoch 51 out of 300\n",
      "Epoch 61 out of 300\n",
      "Epoch 71 out of 300\n",
      "Epoch 81 out of 300\n",
      "Epoch 91 out of 300\n",
      "Epoch 101 out of 300\n",
      "Epoch 111 out of 300\n",
      "Epoch 121 out of 300\n",
      "Epoch 131 out of 300\n",
      "Epoch 141 out of 300\n",
      "Epoch 151 out of 300\n",
      "Epoch 161 out of 300\n",
      "Epoch 171 out of 300\n",
      "Epoch 181 out of 300\n",
      "Epoch 191 out of 300\n",
      "Epoch 201 out of 300\n",
      "Epoch 211 out of 300\n",
      "Epoch 221 out of 300\n",
      "Epoch 231 out of 300\n",
      "Epoch 241 out of 300\n",
      "Epoch 251 out of 300\n",
      "Epoch 261 out of 300\n",
      "Epoch 271 out of 300\n",
      "Epoch 281 out of 300\n",
      "Epoch 291 out of 300\n",
      "\n",
      "\n",
      "Score is 1.000 \n",
      "\n",
      "\n",
      "Subject 3 out of 4\n",
      "Epoch 1 out of 300\n",
      "Epoch 11 out of 300\n",
      "Epoch 21 out of 300\n",
      "Epoch 31 out of 300\n",
      "Epoch 41 out of 300\n",
      "Epoch 51 out of 300\n",
      "Epoch 61 out of 300\n",
      "Epoch 71 out of 300\n",
      "Epoch 81 out of 300\n",
      "Epoch 91 out of 300\n",
      "Epoch 101 out of 300\n",
      "Epoch 111 out of 300\n",
      "Epoch 121 out of 300\n",
      "Epoch 131 out of 300\n",
      "Epoch 141 out of 300\n",
      "Epoch 151 out of 300\n",
      "Epoch 161 out of 300\n",
      "Epoch 171 out of 300\n",
      "Epoch 181 out of 300\n",
      "Epoch 191 out of 300\n",
      "Epoch 201 out of 300\n",
      "Epoch 211 out of 300\n",
      "Epoch 221 out of 300\n",
      "Epoch 231 out of 300\n",
      "Epoch 241 out of 300\n",
      "Epoch 251 out of 300\n",
      "Epoch 261 out of 300\n",
      "Epoch 271 out of 300\n",
      "Epoch 281 out of 300\n",
      "Epoch 291 out of 300\n",
      "\n",
      "\n",
      "Score is 1.000 \n",
      "\n",
      "\n",
      "Subject 4 out of 4\n",
      "Epoch 1 out of 300\n",
      "Epoch 11 out of 300\n",
      "Epoch 21 out of 300\n",
      "Epoch 31 out of 300\n",
      "Epoch 41 out of 300\n",
      "Epoch 51 out of 300\n",
      "Epoch 61 out of 300\n",
      "Epoch 71 out of 300\n",
      "Epoch 81 out of 300\n",
      "Epoch 91 out of 300\n",
      "Epoch 101 out of 300\n",
      "Epoch 111 out of 300\n",
      "Epoch 121 out of 300\n",
      "Epoch 131 out of 300\n",
      "Epoch 141 out of 300\n",
      "Epoch 151 out of 300\n",
      "Epoch 161 out of 300\n",
      "Epoch 171 out of 300\n",
      "Epoch 181 out of 300\n",
      "Epoch 191 out of 300\n",
      "Epoch 201 out of 300\n",
      "Epoch 211 out of 300\n",
      "Epoch 221 out of 300\n",
      "Epoch 231 out of 300\n",
      "Epoch 241 out of 300\n",
      "Epoch 251 out of 300\n",
      "Epoch 261 out of 300\n",
      "Epoch 271 out of 300\n",
      "Epoch 281 out of 300\n",
      "Epoch 291 out of 300\n",
      "\n",
      "\n",
      "Score is 1.000 \n",
      "\n",
      "\n"
     ]
    }
   ],
   "source": [
    "scores = np.empty((len(xtest),))\n",
    "for sub in range(len(xtest)):\n",
    "    print(\"Subject {} out of {}\".format(sub+1, len(xtest)))\n",
    "    data_stft = get_stft(xtest[sub])\n",
    "    data_stft_norm = get_stft_zscore(data_stft)\n",
    "    y_m = np.array([])\n",
    "    for epoch in range(data_stft_norm.shape[-1]):\n",
    "        tpc = np.floor(data_stft_norm.shape[-1]/100)\n",
    "        if epoch%10==0:\n",
    "            print(\"Epoch {} out of {}\".format(epoch+1, data_stft_norm.shape[-1]))\n",
    "        X = generate_test_features(data_stft_norm[:,:,:,epoch])\n",
    "        y_pred = clf.predict(X)\n",
    "        y_m = np.append(y_m, np.median(y_pred))\n",
    "    y = ytest[sub]\n",
    "    label_array = np.array([])\n",
    "    for i in range(y.shape[0]):\n",
    "        l_t = np.where(y[i,:]==1)\n",
    "        label_array = np.append(label_array, l_t)\n",
    "            \n",
    "    y_test = label_array.astype(int)\n",
    "    y_test[y_test==6] = 0\n",
    "    y_test[y_test>0] = 1\n",
    "    \n",
    "    score = balanced_accuracy_score(y_m.astype(int), y_test.astype(int))\n",
    "    print(\"\\n\\nScore is %0.3f \\n\\n\" %(score))\n",
    "    scores[sub] = score"
   ]
  }
 ],
 "metadata": {
  "file_extension": ".py",
  "kernelspec": {
   "display_name": "Python 3",
   "language": "python",
   "name": "python3"
  },
  "language_info": {
   "codemirror_mode": {
    "name": "ipython",
    "version": 3
   },
   "file_extension": ".py",
   "mimetype": "text/x-python",
   "name": "python",
   "nbconvert_exporter": "python",
   "pygments_lexer": "ipython3",
   "version": "3.6.8"
  },
  "mimetype": "text/x-python",
  "name": "python",
  "npconvert_exporter": "python",
  "pygments_lexer": "ipython2",
  "version": 2
 },
 "nbformat": 4,
 "nbformat_minor": 2
}
