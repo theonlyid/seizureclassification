#%%
print("Hello world")

#%%
# Forecasting Seizures
## Analysis of Temple University Dataset