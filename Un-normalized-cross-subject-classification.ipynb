{
 "cells": [
  {
   "cell_type": "code",
   "execution_count": 1,
   "metadata": {},
   "outputs": [],
   "source": [
    "# Import all dependencies\n",
    "\n",
    "from __future__ import print_function, absolute_import\n",
    "import time\n",
    "import numpy as np\n",
    "import matplotlib.pyplot as plt\n",
    "from scipy import signal\n",
    "from sklearn.svm import SVC\n",
    "from sklearn.model_selection import cross_val_score, StratifiedKFold, train_test_split\n",
    "from sklearn.metrics import matthews_corrcoef, balanced_accuracy_score\n",
    "import multiprocessing\n",
    "import scipy.stats\n",
    "import sys"
   ]
  },
  {
   "cell_type": "code",
   "execution_count": 2,
   "metadata": {},
   "outputs": [],
   "source": [
    "# Load the dataset\n",
    "import src.data_loader as dl\n",
    "subIDs, data, labels = dl.load_processed_data_N_subjects_allchans('data/', Nsub=15)"
   ]
  },
  {
   "cell_type": "markdown",
   "metadata": {},
   "source": [
    "### Obtain a STFT for a given epoch"
   ]
  },
  {
   "cell_type": "code",
   "execution_count": 3,
   "metadata": {},
   "outputs": [],
   "source": [
    "def get_stft(data_array):\n",
    "    f, t, data_stft = np.abs(signal.stft(data_array, fs=100, nperseg=64, noverlap=48, axis=-1))\n",
    "    data_stft = np.moveaxis(data_stft, 1, -1)\n",
    "    return data_stft"
   ]
  },
  {
   "cell_type": "markdown",
   "metadata": {},
   "source": [
    "### Normalize the STFT to the subject's overall EEG spectrum (mean, std)"
   ]
  },
  {
   "cell_type": "code",
   "execution_count": 4,
   "metadata": {
    "scrolled": true
   },
   "outputs": [],
   "source": [
    "def get_stft_zscore(stft):\n",
    "    \n",
    "    # move trials to the last axis\n",
    "    data_stft_mean = np.mean(data_stft, axis=(2,3))\n",
    "    data_stft_mean = np.repeat(data_stft_mean[:,:,np.newaxis], data_stft.shape[2], axis=2)\n",
    "    data_stft_mean = np.repeat(data_stft_mean[:,:,:, np.newaxis], data_stft.shape[3], axis=3)\n",
    "\n",
    "    data_stft_std = np.std(data_stft, axis=(2,3))\n",
    "    data_stft_std = np.repeat(data_stft_std[:,:,np.newaxis], data_stft.shape[2], axis=2)\n",
    "    data_stft_std = np.repeat(data_stft_std[:,:,:, np.newaxis], data_stft.shape[3], axis=3)\n",
    "    \n",
    "    stft_norm = (data_stft - data_stft_mean) / data_stft_std\n",
    "    \n",
    "    return stft_norm"
   ]
  },
  {
   "cell_type": "markdown",
   "metadata": {},
   "source": [
    "### Split the data into train and test based on subjects"
   ]
  },
  {
   "cell_type": "code",
   "execution_count": 5,
   "metadata": {},
   "outputs": [
    {
     "name": "stdout",
     "output_type": "stream",
     "text": [
      "0 [0]\n",
      "1 [0]\n",
      "2 [0]\n",
      "3 [0 1]\n",
      "4 [0]\n",
      "5 [0]\n",
      "6 [0]\n",
      "7 [ 0 11]\n",
      "8 [ 0 15]\n",
      "9 [0]\n",
      "10 [0]\n",
      "11 [0]\n",
      "12 [0]\n",
      "13 [0]\n",
      "14 [0 1 8]\n"
     ]
    }
   ],
   "source": [
    "for sub in range(len(data)):\n",
    "    y = labels[sub]\n",
    "    label_array = np.array([])\n",
    "    for i in range(y.shape[0]):\n",
    "        l_t = np.where(y[i,:]==1)\n",
    "        label_array = np.append(label_array, l_t)\n",
    "    y = label_array.astype(int)\n",
    "    y[y==6]=0\n",
    "    y[y==9]=1\n",
    "    \n",
    "    print(sub, np.unique(y))"
   ]
  },
  {
   "cell_type": "code",
   "execution_count": 6,
   "metadata": {},
   "outputs": [],
   "source": [
    "xtrain = [0, 1, 2, 3, 4, 5]\n",
    "xtest = [14]"
   ]
  },
  {
   "cell_type": "code",
   "execution_count": 7,
   "metadata": {},
   "outputs": [],
   "source": [
    "def generate_features(stft_z, labels_):\n",
    "      \n",
    "    # Then get the frames as feature vectors\n",
    "    data_array = label_array = np.array([])\n",
    "    for trial in np.arange(stft_z.shape[-1]):\n",
    "        \n",
    "        this_array = stft_z[:,:,:,trial]\n",
    "        \n",
    "        for timepoint in np.arange(stft_z.shape[-2]):\n",
    "            this_array = stft_z[:,]\n",
    "            data_array = np.append(data_array, stft_z[:, :, timepoint, trial].ravel(), axis=0)\n",
    "            l_t = np.where(labels_[trial,:]==1)\n",
    "            label_array = np.append(label_array, l_t)\n",
    "    \n",
    "    X = np.reshape(data_array, (-1, stft_z.shape[0]*stft_z.shape[1]))\n",
    "    y = label_array.astype(int)\n",
    "    y[y==6] = 0\n",
    "    y[y==9] = 1\n",
    "\n",
    "    return X, y"
   ]
  },
  {
   "cell_type": "code",
   "execution_count": 13,
   "metadata": {},
   "outputs": [
    {
     "name": "stdout",
     "output_type": "stream",
     "text": [
      "Subject 1 out of 6\n",
      "Subject 2 out of 6\n",
      "Subject 3 out of 6\n",
      "Subject 4 out of 6\n",
      "Subject 5 out of 6\n",
      "Subject 6 out of 6\n"
     ]
    },
    {
     "data": {
      "text/plain": [
       "SVC(C=1.0, cache_size=200, class_weight='balanced', coef0=0.0,\n",
       "    decision_function_shape='ovr', degree=3, gamma='scale', kernel='rbf',\n",
       "    max_iter=-1, probability=True, random_state=42, shrinking=True, tol=0.001,\n",
       "    verbose=0)"
      ]
     },
     "execution_count": 13,
     "metadata": {},
     "output_type": "execute_result"
    }
   ],
   "source": [
    "for sub in xtrain:\n",
    "    print(\"Subject {} out of {}\".format(sub+1, len(xtrain)))\n",
    "    data_stft = get_stft(data[sub])\n",
    "    data_stft_norm = data_stft\n",
    "\n",
    "    if sub==0:\n",
    "        X, y = generate_features(data_stft_norm, labels[sub])\n",
    "    else:\n",
    "        X_sub, y_sub = generate_features(data_stft_norm, labels[sub])\n",
    "        X = np.append(X, X_sub, axis=0)\n",
    "        y = np.append(y, y_sub, axis=0)\n",
    "        \n",
    "\n",
    "# Randomize the training set\n",
    "ds = np.empty((X.shape[0], X.shape[1]+1))\n",
    "ds[:,:-1]=X\n",
    "ds[:,-1] = y\n",
    "np.random.seed=42\n",
    "np.random.shuffle(ds)\n",
    "\n",
    "clf = SVC(C=1.0, cache_size=200, class_weight='balanced', coef0=0.0,\n",
    "  decision_function_shape='ovr', degree=3, gamma='scale', kernel='rbf',\n",
    "  max_iter=-1, probability=True, random_state=42, shrinking=True, tol=0.001,\n",
    "  verbose=0)\n",
    "\n",
    "clf.fit(ds[:,:-1],ds[:,-1])"
   ]
  },
  {
   "cell_type": "code",
   "execution_count": 16,
   "metadata": {},
   "outputs": [],
   "source": [
    "def generate_test_features(stft_epoch):\n",
    "    data_array = label_array = np.array([])        \n",
    "    for timepoint in np.arange(stft_epoch.shape[-1]):\n",
    "        data_array = np.append(data_array, stft_epoch[:, :, timepoint].ravel(), axis=0)\n",
    "    X = np.reshape(data_array, (-1, stft_epoch.shape[0]*stft_epoch.shape[1]))\n",
    "    return X"
   ]
  },
  {
   "cell_type": "code",
   "execution_count": 17,
   "metadata": {
    "scrolled": false
   },
   "outputs": [
    {
     "name": "stdout",
     "output_type": "stream",
     "text": [
      "Subject 15 out of 1\n",
      "Score is 0.777 \n",
      "\n",
      "\n"
     ]
    }
   ],
   "source": [
    "scores = np.empty((len(xtest),))\n",
    "\n",
    "for sub in xtest:\n",
    "    print(\"Subject {} out of {}\".format(sub+1, len(xtest)))\n",
    "    data_stft = get_stft(data[sub])\n",
    "    data_stft_norm = data_stft\n",
    "    y_m = np.array([])\n",
    "    for epoch in range(data_stft_norm.shape[-1]):\n",
    "        tpc = np.floor(data_stft_norm.shape[-1]/100)\n",
    "#         if epoch%10==0:\n",
    "#             print(\"Epoch {} out of {}\".format(epoch+1, data_stft_norm.shape[-1]))\n",
    "        X = generate_test_features(data_stft_norm[:,:,:,epoch])\n",
    "        y_pred = clf.predict(X)\n",
    "        y_m = np.append(y_m, np.median(y_pred))\n",
    "    y = labels[sub]\n",
    "    \n",
    "    label_array = np.array([])\n",
    "    for i in range(y.shape[0]):\n",
    "        l_t = np.where(y[i,:]==1)\n",
    "        label_array = np.append(label_array, l_t)\n",
    "            \n",
    "    y_test = label_array.astype(int)\n",
    "    y_test[y_test == 6] = 0\n",
    "    y_test[y_test == 9] = 1\n",
    "        \n",
    "    score = balanced_accuracy_score(y_m[y_test<=2].astype(int), y_test[y_test<=2].astype(int))\n",
    "    print(\"Score is %0.3f \\n\\n\" %(score))"
   ]
  },
  {
   "cell_type": "code",
   "execution_count": 39,
   "metadata": {},
   "outputs": [
    {
     "name": "stdout",
     "output_type": "stream",
     "text": [
      "              precision    recall  f1-score   support\n",
      "\n",
      "           0       1.00      0.55      0.71       186\n",
      "           1       0.02      1.00      0.05         2\n",
      "\n",
      "    accuracy                           0.56       188\n",
      "   macro avg       0.51      0.78      0.38       188\n",
      "weighted avg       0.99      0.56      0.71       188\n",
      "\n"
     ]
    }
   ],
   "source": [
    "from sklearn.metrics import classification_report\n",
    "print(classification_report(y_m[y_test<=2].astype(int), y_test[y_test<=2].astype(int)))"
   ]
  }
 ],
 "metadata": {
  "file_extension": ".py",
  "kernelspec": {
   "display_name": "Python 3",
   "language": "python",
   "name": "python3"
  },
  "language_info": {
   "codemirror_mode": {
    "name": "ipython",
    "version": 3
   },
   "file_extension": ".py",
   "mimetype": "text/x-python",
   "name": "python",
   "nbconvert_exporter": "python",
   "pygments_lexer": "ipython3",
   "version": "3.6.8"
  },
  "mimetype": "text/x-python",
  "name": "python",
  "npconvert_exporter": "python",
  "pygments_lexer": "ipython2",
  "version": 2
 },
 "nbformat": 4,
 "nbformat_minor": 2
}
